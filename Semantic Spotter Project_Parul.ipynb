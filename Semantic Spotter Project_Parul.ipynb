{
 "cells": [
  {
   "cell_type": "markdown",
   "metadata": {},
   "source": [
    "# Installing the \"llama-index\" Python package"
   ]
  },
  {
   "cell_type": "code",
   "execution_count": 1,
   "metadata": {
    "id": "JL3Sz_0zBWXD"
   },
   "outputs": [
    {
     "name": "stdout",
     "output_type": "stream",
     "text": [
      "Defaulting to user installation because normal site-packages is not writeable\n",
      "Requirement already satisfied: llama-index in c:\\users\\parul\\appdata\\roaming\\python\\python39\\site-packages (0.10.19)\n",
      "Requirement already satisfied: llama-index-legacy<0.10.0,>=0.9.48 in c:\\users\\parul\\appdata\\roaming\\python\\python39\\site-packages (from llama-index) (0.9.48)\n",
      "Requirement already satisfied: llama-index-readers-llama-parse<0.2.0,>=0.1.2 in c:\\users\\parul\\appdata\\roaming\\python\\python39\\site-packages (from llama-index) (0.1.3)\n",
      "Requirement already satisfied: llama-index-llms-openai<0.2.0,>=0.1.5 in c:\\users\\parul\\appdata\\roaming\\python\\python39\\site-packages (from llama-index) (0.1.9)\n",
      "Requirement already satisfied: llama-index-program-openai<0.2.0,>=0.1.3 in c:\\users\\parul\\appdata\\roaming\\python\\python39\\site-packages (from llama-index) (0.1.4)\n",
      "Requirement already satisfied: llama-index-agent-openai<0.2.0,>=0.1.4 in c:\\users\\parul\\appdata\\roaming\\python\\python39\\site-packages (from llama-index) (0.1.5)\n",
      "Requirement already satisfied: llama-index-question-gen-openai<0.2.0,>=0.1.2 in c:\\users\\parul\\appdata\\roaming\\python\\python39\\site-packages (from llama-index) (0.1.3)\n",
      "Requirement already satisfied: llama-index-core<0.11.0,>=0.10.19 in c:\\users\\parul\\appdata\\roaming\\python\\python39\\site-packages (from llama-index) (0.10.19)\n",
      "Requirement already satisfied: llama-index-indices-managed-llama-cloud<0.2.0,>=0.1.2 in c:\\users\\parul\\appdata\\roaming\\python\\python39\\site-packages (from llama-index) (0.1.4)\n",
      "Requirement already satisfied: llama-index-cli<0.2.0,>=0.1.2 in c:\\users\\parul\\appdata\\roaming\\python\\python39\\site-packages (from llama-index) (0.1.9)\n",
      "Requirement already satisfied: llama-index-readers-file<0.2.0,>=0.1.4 in c:\\users\\parul\\appdata\\roaming\\python\\python39\\site-packages (from llama-index) (0.1.11)\n",
      "Requirement already satisfied: llama-index-embeddings-openai<0.2.0,>=0.1.5 in c:\\users\\parul\\appdata\\roaming\\python\\python39\\site-packages (from llama-index) (0.1.6)\n",
      "Requirement already satisfied: llama-index-multi-modal-llms-openai<0.2.0,>=0.1.3 in c:\\users\\parul\\appdata\\roaming\\python\\python39\\site-packages (from llama-index) (0.1.4)\n",
      "Requirement already satisfied: nest-asyncio<2.0.0,>=1.5.8 in c:\\users\\parul\\appdata\\roaming\\python\\python39\\site-packages (from llama-index-core<0.11.0,>=0.10.19->llama-index) (1.6.0)\n",
      "Requirement already satisfied: pandas in c:\\programdata\\anaconda3\\lib\\site-packages (from llama-index-core<0.11.0,>=0.10.19->llama-index) (1.4.2)\n",
      "Requirement already satisfied: typing-inspect>=0.8.0 in c:\\users\\parul\\appdata\\roaming\\python\\python39\\site-packages (from llama-index-core<0.11.0,>=0.10.19->llama-index) (0.9.0)\n",
      "Requirement already satisfied: numpy in c:\\users\\parul\\appdata\\roaming\\python\\python39\\site-packages (from llama-index-core<0.11.0,>=0.10.19->llama-index) (1.26.4)\n",
      "Requirement already satisfied: deprecated>=1.2.9.3 in c:\\users\\parul\\appdata\\roaming\\python\\python39\\site-packages (from llama-index-core<0.11.0,>=0.10.19->llama-index) (1.2.14)\n",
      "Requirement already satisfied: tqdm<5.0.0,>=4.66.1 in c:\\users\\parul\\appdata\\roaming\\python\\python39\\site-packages (from llama-index-core<0.11.0,>=0.10.19->llama-index) (4.66.2)\n",
      "Requirement already satisfied: requests>=2.31.0 in c:\\users\\parul\\appdata\\roaming\\python\\python39\\site-packages (from llama-index-core<0.11.0,>=0.10.19->llama-index) (2.31.0)\n",
      "Requirement already satisfied: typing-extensions>=4.5.0 in c:\\users\\parul\\appdata\\roaming\\python\\python39\\site-packages (from llama-index-core<0.11.0,>=0.10.19->llama-index) (4.9.0)\n",
      "Requirement already satisfied: llamaindex-py-client<0.2.0,>=0.1.13 in c:\\users\\parul\\appdata\\roaming\\python\\python39\\site-packages (from llama-index-core<0.11.0,>=0.10.19->llama-index) (0.1.13)\n",
      "Requirement already satisfied: httpx in c:\\users\\parul\\appdata\\roaming\\python\\python39\\site-packages (from llama-index-core<0.11.0,>=0.10.19->llama-index) (0.27.0)\n",
      "Requirement already satisfied: dataclasses-json in c:\\users\\parul\\appdata\\roaming\\python\\python39\\site-packages (from llama-index-core<0.11.0,>=0.10.19->llama-index) (0.6.4)\n",
      "Requirement already satisfied: PyYAML>=6.0.1 in c:\\users\\parul\\appdata\\roaming\\python\\python39\\site-packages (from llama-index-core<0.11.0,>=0.10.19->llama-index) (6.0.1)\n",
      "Requirement already satisfied: networkx>=3.0 in c:\\users\\parul\\appdata\\roaming\\python\\python39\\site-packages (from llama-index-core<0.11.0,>=0.10.19->llama-index) (3.2.1)\n",
      "Requirement already satisfied: fsspec>=2023.5.0 in c:\\users\\parul\\appdata\\roaming\\python\\python39\\site-packages (from llama-index-core<0.11.0,>=0.10.19->llama-index) (2023.12.2)\n",
      "Requirement already satisfied: SQLAlchemy[asyncio]>=1.4.49 in c:\\users\\parul\\appdata\\roaming\\python\\python39\\site-packages (from llama-index-core<0.11.0,>=0.10.19->llama-index) (2.0.28)\n",
      "Requirement already satisfied: nltk<4.0.0,>=3.8.1 in c:\\users\\parul\\appdata\\roaming\\python\\python39\\site-packages (from llama-index-core<0.11.0,>=0.10.19->llama-index) (3.8.1)\n",
      "Requirement already satisfied: openai>=1.1.0 in c:\\users\\parul\\appdata\\roaming\\python\\python39\\site-packages (from llama-index-core<0.11.0,>=0.10.19->llama-index) (1.14.0)\n",
      "Requirement already satisfied: tenacity<9.0.0,>=8.2.0 in c:\\users\\parul\\appdata\\roaming\\python\\python39\\site-packages (from llama-index-core<0.11.0,>=0.10.19->llama-index) (8.2.3)\n",
      "Requirement already satisfied: tiktoken>=0.3.3 in c:\\users\\parul\\appdata\\roaming\\python\\python39\\site-packages (from llama-index-core<0.11.0,>=0.10.19->llama-index) (0.6.0)\n",
      "Requirement already satisfied: aiohttp<4.0.0,>=3.8.6 in c:\\users\\parul\\appdata\\roaming\\python\\python39\\site-packages (from llama-index-core<0.11.0,>=0.10.19->llama-index) (3.9.3)\n",
      "Requirement already satisfied: pillow>=9.0.0 in c:\\users\\parul\\appdata\\roaming\\python\\python39\\site-packages (from llama-index-core<0.11.0,>=0.10.19->llama-index) (10.2.0)\n",
      "Requirement already satisfied: dirtyjson<2.0.0,>=1.0.8 in c:\\users\\parul\\appdata\\roaming\\python\\python39\\site-packages (from llama-index-core<0.11.0,>=0.10.19->llama-index) (1.0.8)\n",
      "Requirement already satisfied: async-timeout<5.0,>=4.0 in c:\\programdata\\anaconda3\\lib\\site-packages (from aiohttp<4.0.0,>=3.8.6->llama-index-core<0.11.0,>=0.10.19->llama-index) (4.0.1)\n",
      "Requirement already satisfied: yarl<2.0,>=1.0 in c:\\programdata\\anaconda3\\lib\\site-packages (from aiohttp<4.0.0,>=3.8.6->llama-index-core<0.11.0,>=0.10.19->llama-index) (1.6.3)\n",
      "Requirement already satisfied: aiosignal>=1.1.2 in c:\\programdata\\anaconda3\\lib\\site-packages (from aiohttp<4.0.0,>=3.8.6->llama-index-core<0.11.0,>=0.10.19->llama-index) (1.2.0)\n",
      "Requirement already satisfied: attrs>=17.3.0 in c:\\programdata\\anaconda3\\lib\\site-packages (from aiohttp<4.0.0,>=3.8.6->llama-index-core<0.11.0,>=0.10.19->llama-index) (21.4.0)\n",
      "Requirement already satisfied: multidict<7.0,>=4.5 in c:\\programdata\\anaconda3\\lib\\site-packages (from aiohttp<4.0.0,>=3.8.6->llama-index-core<0.11.0,>=0.10.19->llama-index) (5.1.0)\n",
      "Requirement already satisfied: frozenlist>=1.1.1 in c:\\programdata\\anaconda3\\lib\\site-packages (from aiohttp<4.0.0,>=3.8.6->llama-index-core<0.11.0,>=0.10.19->llama-index) (1.2.0)\n",
      "Requirement already satisfied: wrapt<2,>=1.10 in c:\\programdata\\anaconda3\\lib\\site-packages (from deprecated>=1.2.9.3->llama-index-core<0.11.0,>=0.10.19->llama-index) (1.12.1)\n",
      "Requirement already satisfied: bs4<0.0.3,>=0.0.2 in c:\\users\\parul\\appdata\\roaming\\python\\python39\\site-packages (from llama-index-readers-file<0.2.0,>=0.1.4->llama-index) (0.0.2)\n",
      "Requirement already satisfied: pypdf<5.0.0,>=4.0.1 in c:\\users\\parul\\appdata\\roaming\\python\\python39\\site-packages (from llama-index-readers-file<0.2.0,>=0.1.4->llama-index) (4.1.0)\n",
      "Requirement already satisfied: pymupdf<2.0.0,>=1.23.21 in c:\\users\\parul\\appdata\\roaming\\python\\python39\\site-packages (from llama-index-readers-file<0.2.0,>=0.1.4->llama-index) (1.23.26)\n",
      "Requirement already satisfied: striprtf<0.0.27,>=0.0.26 in c:\\users\\parul\\appdata\\roaming\\python\\python39\\site-packages (from llama-index-readers-file<0.2.0,>=0.1.4->llama-index) (0.0.26)\n",
      "Requirement already satisfied: beautifulsoup4<5.0.0,>=4.12.3 in c:\\users\\parul\\appdata\\roaming\\python\\python39\\site-packages (from llama-index-readers-file<0.2.0,>=0.1.4->llama-index) (4.12.3)\n",
      "Requirement already satisfied: soupsieve>1.2 in c:\\programdata\\anaconda3\\lib\\site-packages (from beautifulsoup4<5.0.0,>=4.12.3->llama-index-readers-file<0.2.0,>=0.1.4->llama-index) (2.3.1)\n",
      "Requirement already satisfied: llama-parse<0.4.0,>=0.3.3 in c:\\users\\parul\\appdata\\roaming\\python\\python39\\site-packages (from llama-index-readers-llama-parse<0.2.0,>=0.1.2->llama-index) (0.3.9)\n",
      "Requirement already satisfied: pydantic>=1.10 in c:\\users\\parul\\appdata\\roaming\\python\\python39\\site-packages (from llamaindex-py-client<0.2.0,>=0.1.13->llama-index-core<0.11.0,>=0.10.19->llama-index) (2.6.1)\n",
      "Requirement already satisfied: anyio in c:\\programdata\\anaconda3\\lib\\site-packages (from httpx->llama-index-core<0.11.0,>=0.10.19->llama-index) (3.5.0)\n",
      "Requirement already satisfied: idna in c:\\programdata\\anaconda3\\lib\\site-packages (from httpx->llama-index-core<0.11.0,>=0.10.19->llama-index) (3.3)\n",
      "Requirement already satisfied: httpcore==1.* in c:\\users\\parul\\appdata\\roaming\\python\\python39\\site-packages (from httpx->llama-index-core<0.11.0,>=0.10.19->llama-index) (1.0.4)\n",
      "Requirement already satisfied: certifi in c:\\programdata\\anaconda3\\lib\\site-packages (from httpx->llama-index-core<0.11.0,>=0.10.19->llama-index) (2021.10.8)\n",
      "Requirement already satisfied: sniffio in c:\\programdata\\anaconda3\\lib\\site-packages (from httpx->llama-index-core<0.11.0,>=0.10.19->llama-index) (1.2.0)\n",
      "Requirement already satisfied: h11<0.15,>=0.13 in c:\\users\\parul\\appdata\\roaming\\python\\python39\\site-packages (from httpcore==1.*->httpx->llama-index-core<0.11.0,>=0.10.19->llama-index) (0.14.0)\n",
      "Requirement already satisfied: joblib in c:\\programdata\\anaconda3\\lib\\site-packages (from nltk<4.0.0,>=3.8.1->llama-index-core<0.11.0,>=0.10.19->llama-index) (1.1.0)\n",
      "Requirement already satisfied: click in c:\\programdata\\anaconda3\\lib\\site-packages (from nltk<4.0.0,>=3.8.1->llama-index-core<0.11.0,>=0.10.19->llama-index) (8.0.4)\n",
      "Requirement already satisfied: regex>=2021.8.3 in c:\\programdata\\anaconda3\\lib\\site-packages (from nltk<4.0.0,>=3.8.1->llama-index-core<0.11.0,>=0.10.19->llama-index) (2022.3.15)\n",
      "Requirement already satisfied: distro<2,>=1.7.0 in c:\\users\\parul\\appdata\\roaming\\python\\python39\\site-packages (from openai>=1.1.0->llama-index-core<0.11.0,>=0.10.19->llama-index) (1.9.0)\n",
      "Requirement already satisfied: annotated-types>=0.4.0 in c:\\users\\parul\\appdata\\roaming\\python\\python39\\site-packages (from pydantic>=1.10->llamaindex-py-client<0.2.0,>=0.1.13->llama-index-core<0.11.0,>=0.10.19->llama-index) (0.6.0)\n",
      "Requirement already satisfied: pydantic-core==2.16.2 in c:\\users\\parul\\appdata\\roaming\\python\\python39\\site-packages (from pydantic>=1.10->llamaindex-py-client<0.2.0,>=0.1.13->llama-index-core<0.11.0,>=0.10.19->llama-index) (2.16.2)\n",
      "Requirement already satisfied: PyMuPDFb==1.23.22 in c:\\users\\parul\\appdata\\roaming\\python\\python39\\site-packages (from pymupdf<2.0.0,>=1.23.21->llama-index-readers-file<0.2.0,>=0.1.4->llama-index) (1.23.22)\n",
      "Requirement already satisfied: charset-normalizer<4,>=2 in c:\\programdata\\anaconda3\\lib\\site-packages (from requests>=2.31.0->llama-index-core<0.11.0,>=0.10.19->llama-index) (2.0.4)\n",
      "Requirement already satisfied: urllib3<3,>=1.21.1 in c:\\programdata\\anaconda3\\lib\\site-packages (from requests>=2.31.0->llama-index-core<0.11.0,>=0.10.19->llama-index) (1.26.9)\n",
      "Requirement already satisfied: greenlet!=0.4.17 in c:\\programdata\\anaconda3\\lib\\site-packages (from SQLAlchemy[asyncio]>=1.4.49->llama-index-core<0.11.0,>=0.10.19->llama-index) (1.1.1)\n",
      "Requirement already satisfied: colorama in c:\\programdata\\anaconda3\\lib\\site-packages (from tqdm<5.0.0,>=4.66.1->llama-index-core<0.11.0,>=0.10.19->llama-index) (0.4.4)\n",
      "Requirement already satisfied: mypy-extensions>=0.3.0 in c:\\programdata\\anaconda3\\lib\\site-packages (from typing-inspect>=0.8.0->llama-index-core<0.11.0,>=0.10.19->llama-index) (0.4.3)\n",
      "Requirement already satisfied: marshmallow<4.0.0,>=3.18.0 in c:\\users\\parul\\appdata\\roaming\\python\\python39\\site-packages (from dataclasses-json->llama-index-core<0.11.0,>=0.10.19->llama-index) (3.21.1)\n",
      "Requirement already satisfied: packaging>=17.0 in c:\\programdata\\anaconda3\\lib\\site-packages (from marshmallow<4.0.0,>=3.18.0->dataclasses-json->llama-index-core<0.11.0,>=0.10.19->llama-index) (21.3)\n",
      "Requirement already satisfied: pyparsing!=3.0.5,>=2.0.2 in c:\\programdata\\anaconda3\\lib\\site-packages (from packaging>=17.0->marshmallow<4.0.0,>=3.18.0->dataclasses-json->llama-index-core<0.11.0,>=0.10.19->llama-index) (3.0.4)\n",
      "Requirement already satisfied: python-dateutil>=2.8.1 in c:\\programdata\\anaconda3\\lib\\site-packages (from pandas->llama-index-core<0.11.0,>=0.10.19->llama-index) (2.8.2)\n",
      "Requirement already satisfied: pytz>=2020.1 in c:\\programdata\\anaconda3\\lib\\site-packages (from pandas->llama-index-core<0.11.0,>=0.10.19->llama-index) (2021.3)\n",
      "Requirement already satisfied: six>=1.5 in c:\\programdata\\anaconda3\\lib\\site-packages (from python-dateutil>=2.8.1->pandas->llama-index-core<0.11.0,>=0.10.19->llama-index) (1.16.0)\n"
     ]
    }
   ],
   "source": [
    "!pip install llama-index"
   ]
  },
  {
   "cell_type": "code",
   "execution_count": 2,
   "metadata": {
    "id": "feT3Sd2IBmu8"
   },
   "outputs": [
    {
     "name": "stdout",
     "output_type": "stream",
     "text": [
      "Defaulting to user installation because normal site-packages is not writeable\n",
      "Collecting docx2txt\n",
      "  Downloading docx2txt-0.8.tar.gz (2.8 kB)\n",
      "Building wheels for collected packages: docx2txt\n",
      "  Building wheel for docx2txt (setup.py): started\n",
      "  Building wheel for docx2txt (setup.py): finished with status 'done'\n",
      "  Created wheel for docx2txt: filename=docx2txt-0.8-py3-none-any.whl size=3984 sha256=1ad72a01b8e6131056196628f573d91b182b05aeb4c945c8abc4537584cac298\n",
      "  Stored in directory: c:\\users\\parul\\appdata\\local\\pip\\cache\\wheels\\40\\75\\01\\e6c444034338bde9c7947d3467807f889123465c2371e77418\n",
      "Successfully built docx2txt\n",
      "Installing collected packages: docx2txt\n",
      "Successfully installed docx2txt-0.8\n"
     ]
    }
   ],
   "source": [
    "!pip install docx2txt"
   ]
  },
  {
   "cell_type": "code",
   "execution_count": 3,
   "metadata": {
    "colab": {
     "base_uri": "https://localhost:8080/"
    },
    "executionInfo": {
     "elapsed": 8151,
     "status": "ok",
     "timestamp": 1707927258432,
     "user": {
      "displayName": "Vishal Tank",
      "userId": "09427577243376366633"
     },
     "user_tz": -330
    },
    "id": "yo7JmrqBC3G3",
    "outputId": "fa4afb89-77f1-4aa7-808f-503d5d80fbed"
   },
   "outputs": [
    {
     "name": "stdout",
     "output_type": "stream",
     "text": [
      "Defaulting to user installation because normal site-packages is not writeable\n",
      "Requirement already satisfied: pypdf in c:\\users\\parul\\appdata\\roaming\\python\\python39\\site-packages (4.1.0)\n",
      "Requirement already satisfied: typing_extensions>=3.7.4.3 in c:\\users\\parul\\appdata\\roaming\\python\\python39\\site-packages (from pypdf) (4.9.0)\n"
     ]
    }
   ],
   "source": [
    "!pip install pypdf"
   ]
  },
  {
   "cell_type": "code",
   "execution_count": 4,
   "metadata": {
    "id": "_6qOoLDrJndN"
   },
   "outputs": [
    {
     "name": "stdout",
     "output_type": "stream",
     "text": [
      "Defaulting to user installation because normal site-packages is not writeable\n",
      "Requirement already satisfied: Openai in c:\\users\\parul\\appdata\\roaming\\python\\python39\\site-packages (1.14.0)\n",
      "Requirement already satisfied: distro<2,>=1.7.0 in c:\\users\\parul\\appdata\\roaming\\python\\python39\\site-packages (from Openai) (1.9.0)\n",
      "Requirement already satisfied: sniffio in c:\\programdata\\anaconda3\\lib\\site-packages (from Openai) (1.2.0)\n",
      "Requirement already satisfied: anyio<5,>=3.5.0 in c:\\programdata\\anaconda3\\lib\\site-packages (from Openai) (3.5.0)\n",
      "Requirement already satisfied: typing-extensions<5,>=4.7 in c:\\users\\parul\\appdata\\roaming\\python\\python39\\site-packages (from Openai) (4.9.0)\n",
      "Requirement already satisfied: pydantic<3,>=1.9.0 in c:\\users\\parul\\appdata\\roaming\\python\\python39\\site-packages (from Openai) (2.6.1)\n",
      "Requirement already satisfied: tqdm>4 in c:\\users\\parul\\appdata\\roaming\\python\\python39\\site-packages (from Openai) (4.66.2)\n",
      "Requirement already satisfied: httpx<1,>=0.23.0 in c:\\users\\parul\\appdata\\roaming\\python\\python39\\site-packages (from Openai) (0.27.0)\n",
      "Requirement already satisfied: idna>=2.8 in c:\\programdata\\anaconda3\\lib\\site-packages (from anyio<5,>=3.5.0->Openai) (3.3)\n",
      "Requirement already satisfied: httpcore==1.* in c:\\users\\parul\\appdata\\roaming\\python\\python39\\site-packages (from httpx<1,>=0.23.0->Openai) (1.0.4)\n",
      "Requirement already satisfied: certifi in c:\\programdata\\anaconda3\\lib\\site-packages (from httpx<1,>=0.23.0->Openai) (2021.10.8)\n",
      "Requirement already satisfied: h11<0.15,>=0.13 in c:\\users\\parul\\appdata\\roaming\\python\\python39\\site-packages (from httpcore==1.*->httpx<1,>=0.23.0->Openai) (0.14.0)\n",
      "Requirement already satisfied: pydantic-core==2.16.2 in c:\\users\\parul\\appdata\\roaming\\python\\python39\\site-packages (from pydantic<3,>=1.9.0->Openai) (2.16.2)\n",
      "Requirement already satisfied: annotated-types>=0.4.0 in c:\\users\\parul\\appdata\\roaming\\python\\python39\\site-packages (from pydantic<3,>=1.9.0->Openai) (0.6.0)\n",
      "Requirement already satisfied: colorama in c:\\programdata\\anaconda3\\lib\\site-packages (from tqdm>4->Openai) (0.4.4)\n"
     ]
    }
   ],
   "source": [
    "!pip install Openai"
   ]
  },
  {
   "cell_type": "code",
   "execution_count": null,
   "metadata": {
    "id": "8CUaXpvuJuvr"
   },
   "outputs": [],
   "source": [
    "#!pip install -q openai langchain chromadb faiss-cpu pypdf tiktoken docarray"
   ]
  },
  {
   "cell_type": "code",
   "execution_count": 5,
   "metadata": {
    "id": "tQDrGKJUSjck"
   },
   "outputs": [
    {
     "name": "stdout",
     "output_type": "stream",
     "text": [
      "Defaulting to user installation because normal site-packages is not writeable\n",
      "Requirement already satisfied: llama_index in c:\\users\\parul\\appdata\\roaming\\python\\python39\\site-packages (0.10.19)\n",
      "Requirement already satisfied: llama-index-multi-modal-llms-openai<0.2.0,>=0.1.3 in c:\\users\\parul\\appdata\\roaming\\python\\python39\\site-packages (from llama_index) (0.1.4)\n",
      "Requirement already satisfied: llama-index-legacy<0.10.0,>=0.9.48 in c:\\users\\parul\\appdata\\roaming\\python\\python39\\site-packages (from llama_index) (0.9.48)\n",
      "Requirement already satisfied: llama-index-question-gen-openai<0.2.0,>=0.1.2 in c:\\users\\parul\\appdata\\roaming\\python\\python39\\site-packages (from llama_index) (0.1.3)\n",
      "Requirement already satisfied: llama-index-readers-file<0.2.0,>=0.1.4 in c:\\users\\parul\\appdata\\roaming\\python\\python39\\site-packages (from llama_index) (0.1.11)\n",
      "Requirement already satisfied: llama-index-core<0.11.0,>=0.10.19 in c:\\users\\parul\\appdata\\roaming\\python\\python39\\site-packages (from llama_index) (0.10.19)\n",
      "Requirement already satisfied: llama-index-agent-openai<0.2.0,>=0.1.4 in c:\\users\\parul\\appdata\\roaming\\python\\python39\\site-packages (from llama_index) (0.1.5)\n",
      "Requirement already satisfied: llama-index-cli<0.2.0,>=0.1.2 in c:\\users\\parul\\appdata\\roaming\\python\\python39\\site-packages (from llama_index) (0.1.9)\n",
      "Requirement already satisfied: llama-index-program-openai<0.2.0,>=0.1.3 in c:\\users\\parul\\appdata\\roaming\\python\\python39\\site-packages (from llama_index) (0.1.4)\n",
      "Requirement already satisfied: llama-index-embeddings-openai<0.2.0,>=0.1.5 in c:\\users\\parul\\appdata\\roaming\\python\\python39\\site-packages (from llama_index) (0.1.6)\n",
      "Requirement already satisfied: llama-index-indices-managed-llama-cloud<0.2.0,>=0.1.2 in c:\\users\\parul\\appdata\\roaming\\python\\python39\\site-packages (from llama_index) (0.1.4)\n",
      "Requirement already satisfied: llama-index-llms-openai<0.2.0,>=0.1.5 in c:\\users\\parul\\appdata\\roaming\\python\\python39\\site-packages (from llama_index) (0.1.9)\n",
      "Requirement already satisfied: llama-index-readers-llama-parse<0.2.0,>=0.1.2 in c:\\users\\parul\\appdata\\roaming\\python\\python39\\site-packages (from llama_index) (0.1.3)\n",
      "Requirement already satisfied: typing-inspect>=0.8.0 in c:\\users\\parul\\appdata\\roaming\\python\\python39\\site-packages (from llama-index-core<0.11.0,>=0.10.19->llama_index) (0.9.0)\n",
      "Requirement already satisfied: dirtyjson<2.0.0,>=1.0.8 in c:\\users\\parul\\appdata\\roaming\\python\\python39\\site-packages (from llama-index-core<0.11.0,>=0.10.19->llama_index) (1.0.8)\n",
      "Requirement already satisfied: tqdm<5.0.0,>=4.66.1 in c:\\users\\parul\\appdata\\roaming\\python\\python39\\site-packages (from llama-index-core<0.11.0,>=0.10.19->llama_index) (4.66.2)\n",
      "Requirement already satisfied: httpx in c:\\users\\parul\\appdata\\roaming\\python\\python39\\site-packages (from llama-index-core<0.11.0,>=0.10.19->llama_index) (0.27.0)\n",
      "Requirement already satisfied: nest-asyncio<2.0.0,>=1.5.8 in c:\\users\\parul\\appdata\\roaming\\python\\python39\\site-packages (from llama-index-core<0.11.0,>=0.10.19->llama_index) (1.6.0)\n",
      "Requirement already satisfied: nltk<4.0.0,>=3.8.1 in c:\\users\\parul\\appdata\\roaming\\python\\python39\\site-packages (from llama-index-core<0.11.0,>=0.10.19->llama_index) (3.8.1)\n",
      "Requirement already satisfied: llamaindex-py-client<0.2.0,>=0.1.13 in c:\\users\\parul\\appdata\\roaming\\python\\python39\\site-packages (from llama-index-core<0.11.0,>=0.10.19->llama_index) (0.1.13)\n",
      "Requirement already satisfied: deprecated>=1.2.9.3 in c:\\users\\parul\\appdata\\roaming\\python\\python39\\site-packages (from llama-index-core<0.11.0,>=0.10.19->llama_index) (1.2.14)\n",
      "Requirement already satisfied: typing-extensions>=4.5.0 in c:\\users\\parul\\appdata\\roaming\\python\\python39\\site-packages (from llama-index-core<0.11.0,>=0.10.19->llama_index) (4.9.0)\n",
      "Requirement already satisfied: dataclasses-json in c:\\users\\parul\\appdata\\roaming\\python\\python39\\site-packages (from llama-index-core<0.11.0,>=0.10.19->llama_index) (0.6.4)\n",
      "Requirement already satisfied: SQLAlchemy[asyncio]>=1.4.49 in c:\\users\\parul\\appdata\\roaming\\python\\python39\\site-packages (from llama-index-core<0.11.0,>=0.10.19->llama_index) (2.0.28)\n",
      "Requirement already satisfied: pandas in c:\\programdata\\anaconda3\\lib\\site-packages (from llama-index-core<0.11.0,>=0.10.19->llama_index) (1.4.2)\n",
      "Requirement already satisfied: networkx>=3.0 in c:\\users\\parul\\appdata\\roaming\\python\\python39\\site-packages (from llama-index-core<0.11.0,>=0.10.19->llama_index) (3.2.1)\n",
      "Requirement already satisfied: PyYAML>=6.0.1 in c:\\users\\parul\\appdata\\roaming\\python\\python39\\site-packages (from llama-index-core<0.11.0,>=0.10.19->llama_index) (6.0.1)\n",
      "Requirement already satisfied: requests>=2.31.0 in c:\\users\\parul\\appdata\\roaming\\python\\python39\\site-packages (from llama-index-core<0.11.0,>=0.10.19->llama_index) (2.31.0)\n",
      "Requirement already satisfied: openai>=1.1.0 in c:\\users\\parul\\appdata\\roaming\\python\\python39\\site-packages (from llama-index-core<0.11.0,>=0.10.19->llama_index) (1.14.0)\n",
      "Requirement already satisfied: tenacity<9.0.0,>=8.2.0 in c:\\users\\parul\\appdata\\roaming\\python\\python39\\site-packages (from llama-index-core<0.11.0,>=0.10.19->llama_index) (8.2.3)\n",
      "Requirement already satisfied: pillow>=9.0.0 in c:\\users\\parul\\appdata\\roaming\\python\\python39\\site-packages (from llama-index-core<0.11.0,>=0.10.19->llama_index) (10.2.0)\n",
      "Requirement already satisfied: aiohttp<4.0.0,>=3.8.6 in c:\\users\\parul\\appdata\\roaming\\python\\python39\\site-packages (from llama-index-core<0.11.0,>=0.10.19->llama_index) (3.9.3)\n",
      "Requirement already satisfied: fsspec>=2023.5.0 in c:\\users\\parul\\appdata\\roaming\\python\\python39\\site-packages (from llama-index-core<0.11.0,>=0.10.19->llama_index) (2023.12.2)\n",
      "Requirement already satisfied: tiktoken>=0.3.3 in c:\\users\\parul\\appdata\\roaming\\python\\python39\\site-packages (from llama-index-core<0.11.0,>=0.10.19->llama_index) (0.6.0)\n",
      "Requirement already satisfied: numpy in c:\\users\\parul\\appdata\\roaming\\python\\python39\\site-packages (from llama-index-core<0.11.0,>=0.10.19->llama_index) (1.26.4)\n",
      "Requirement already satisfied: frozenlist>=1.1.1 in c:\\programdata\\anaconda3\\lib\\site-packages (from aiohttp<4.0.0,>=3.8.6->llama-index-core<0.11.0,>=0.10.19->llama_index) (1.2.0)\n",
      "Requirement already satisfied: async-timeout<5.0,>=4.0 in c:\\programdata\\anaconda3\\lib\\site-packages (from aiohttp<4.0.0,>=3.8.6->llama-index-core<0.11.0,>=0.10.19->llama_index) (4.0.1)\n",
      "Requirement already satisfied: yarl<2.0,>=1.0 in c:\\programdata\\anaconda3\\lib\\site-packages (from aiohttp<4.0.0,>=3.8.6->llama-index-core<0.11.0,>=0.10.19->llama_index) (1.6.3)\n",
      "Requirement already satisfied: attrs>=17.3.0 in c:\\programdata\\anaconda3\\lib\\site-packages (from aiohttp<4.0.0,>=3.8.6->llama-index-core<0.11.0,>=0.10.19->llama_index) (21.4.0)\n",
      "Requirement already satisfied: aiosignal>=1.1.2 in c:\\programdata\\anaconda3\\lib\\site-packages (from aiohttp<4.0.0,>=3.8.6->llama-index-core<0.11.0,>=0.10.19->llama_index) (1.2.0)\n",
      "Requirement already satisfied: multidict<7.0,>=4.5 in c:\\programdata\\anaconda3\\lib\\site-packages (from aiohttp<4.0.0,>=3.8.6->llama-index-core<0.11.0,>=0.10.19->llama_index) (5.1.0)\n",
      "Requirement already satisfied: wrapt<2,>=1.10 in c:\\programdata\\anaconda3\\lib\\site-packages (from deprecated>=1.2.9.3->llama-index-core<0.11.0,>=0.10.19->llama_index) (1.12.1)\n",
      "Requirement already satisfied: beautifulsoup4<5.0.0,>=4.12.3 in c:\\users\\parul\\appdata\\roaming\\python\\python39\\site-packages (from llama-index-readers-file<0.2.0,>=0.1.4->llama_index) (4.12.3)\n",
      "Requirement already satisfied: pymupdf<2.0.0,>=1.23.21 in c:\\users\\parul\\appdata\\roaming\\python\\python39\\site-packages (from llama-index-readers-file<0.2.0,>=0.1.4->llama_index) (1.23.26)\n",
      "Requirement already satisfied: striprtf<0.0.27,>=0.0.26 in c:\\users\\parul\\appdata\\roaming\\python\\python39\\site-packages (from llama-index-readers-file<0.2.0,>=0.1.4->llama_index) (0.0.26)\n",
      "Requirement already satisfied: pypdf<5.0.0,>=4.0.1 in c:\\users\\parul\\appdata\\roaming\\python\\python39\\site-packages (from llama-index-readers-file<0.2.0,>=0.1.4->llama_index) (4.1.0)\n",
      "Requirement already satisfied: bs4<0.0.3,>=0.0.2 in c:\\users\\parul\\appdata\\roaming\\python\\python39\\site-packages (from llama-index-readers-file<0.2.0,>=0.1.4->llama_index) (0.0.2)\n",
      "Requirement already satisfied: soupsieve>1.2 in c:\\programdata\\anaconda3\\lib\\site-packages (from beautifulsoup4<5.0.0,>=4.12.3->llama-index-readers-file<0.2.0,>=0.1.4->llama_index) (2.3.1)\n",
      "Requirement already satisfied: llama-parse<0.4.0,>=0.3.3 in c:\\users\\parul\\appdata\\roaming\\python\\python39\\site-packages (from llama-index-readers-llama-parse<0.2.0,>=0.1.2->llama_index) (0.3.9)\n",
      "Requirement already satisfied: pydantic>=1.10 in c:\\users\\parul\\appdata\\roaming\\python\\python39\\site-packages (from llamaindex-py-client<0.2.0,>=0.1.13->llama-index-core<0.11.0,>=0.10.19->llama_index) (2.6.1)\n",
      "Requirement already satisfied: sniffio in c:\\programdata\\anaconda3\\lib\\site-packages (from httpx->llama-index-core<0.11.0,>=0.10.19->llama_index) (1.2.0)\n",
      "Requirement already satisfied: certifi in c:\\programdata\\anaconda3\\lib\\site-packages (from httpx->llama-index-core<0.11.0,>=0.10.19->llama_index) (2021.10.8)\n",
      "Requirement already satisfied: anyio in c:\\programdata\\anaconda3\\lib\\site-packages (from httpx->llama-index-core<0.11.0,>=0.10.19->llama_index) (3.5.0)\n",
      "Requirement already satisfied: httpcore==1.* in c:\\users\\parul\\appdata\\roaming\\python\\python39\\site-packages (from httpx->llama-index-core<0.11.0,>=0.10.19->llama_index) (1.0.4)\n",
      "Requirement already satisfied: idna in c:\\programdata\\anaconda3\\lib\\site-packages (from httpx->llama-index-core<0.11.0,>=0.10.19->llama_index) (3.3)\n",
      "Requirement already satisfied: h11<0.15,>=0.13 in c:\\users\\parul\\appdata\\roaming\\python\\python39\\site-packages (from httpcore==1.*->httpx->llama-index-core<0.11.0,>=0.10.19->llama_index) (0.14.0)\n",
      "Requirement already satisfied: joblib in c:\\programdata\\anaconda3\\lib\\site-packages (from nltk<4.0.0,>=3.8.1->llama-index-core<0.11.0,>=0.10.19->llama_index) (1.1.0)\n",
      "Requirement already satisfied: regex>=2021.8.3 in c:\\programdata\\anaconda3\\lib\\site-packages (from nltk<4.0.0,>=3.8.1->llama-index-core<0.11.0,>=0.10.19->llama_index) (2022.3.15)\n",
      "Requirement already satisfied: click in c:\\programdata\\anaconda3\\lib\\site-packages (from nltk<4.0.0,>=3.8.1->llama-index-core<0.11.0,>=0.10.19->llama_index) (8.0.4)\n",
      "Requirement already satisfied: distro<2,>=1.7.0 in c:\\users\\parul\\appdata\\roaming\\python\\python39\\site-packages (from openai>=1.1.0->llama-index-core<0.11.0,>=0.10.19->llama_index) (1.9.0)\n",
      "Requirement already satisfied: pydantic-core==2.16.2 in c:\\users\\parul\\appdata\\roaming\\python\\python39\\site-packages (from pydantic>=1.10->llamaindex-py-client<0.2.0,>=0.1.13->llama-index-core<0.11.0,>=0.10.19->llama_index) (2.16.2)\n",
      "Requirement already satisfied: annotated-types>=0.4.0 in c:\\users\\parul\\appdata\\roaming\\python\\python39\\site-packages (from pydantic>=1.10->llamaindex-py-client<0.2.0,>=0.1.13->llama-index-core<0.11.0,>=0.10.19->llama_index) (0.6.0)\n",
      "Requirement already satisfied: PyMuPDFb==1.23.22 in c:\\users\\parul\\appdata\\roaming\\python\\python39\\site-packages (from pymupdf<2.0.0,>=1.23.21->llama-index-readers-file<0.2.0,>=0.1.4->llama_index) (1.23.22)\n",
      "Requirement already satisfied: charset-normalizer<4,>=2 in c:\\programdata\\anaconda3\\lib\\site-packages (from requests>=2.31.0->llama-index-core<0.11.0,>=0.10.19->llama_index) (2.0.4)\n",
      "Requirement already satisfied: urllib3<3,>=1.21.1 in c:\\programdata\\anaconda3\\lib\\site-packages (from requests>=2.31.0->llama-index-core<0.11.0,>=0.10.19->llama_index) (1.26.9)\n",
      "Requirement already satisfied: greenlet!=0.4.17 in c:\\programdata\\anaconda3\\lib\\site-packages (from SQLAlchemy[asyncio]>=1.4.49->llama-index-core<0.11.0,>=0.10.19->llama_index) (1.1.1)\n",
      "Requirement already satisfied: colorama in c:\\programdata\\anaconda3\\lib\\site-packages (from tqdm<5.0.0,>=4.66.1->llama-index-core<0.11.0,>=0.10.19->llama_index) (0.4.4)\n",
      "Requirement already satisfied: mypy-extensions>=0.3.0 in c:\\programdata\\anaconda3\\lib\\site-packages (from typing-inspect>=0.8.0->llama-index-core<0.11.0,>=0.10.19->llama_index) (0.4.3)\n",
      "Requirement already satisfied: marshmallow<4.0.0,>=3.18.0 in c:\\users\\parul\\appdata\\roaming\\python\\python39\\site-packages (from dataclasses-json->llama-index-core<0.11.0,>=0.10.19->llama_index) (3.21.1)\n",
      "Requirement already satisfied: packaging>=17.0 in c:\\programdata\\anaconda3\\lib\\site-packages (from marshmallow<4.0.0,>=3.18.0->dataclasses-json->llama-index-core<0.11.0,>=0.10.19->llama_index) (21.3)\n",
      "Requirement already satisfied: pyparsing!=3.0.5,>=2.0.2 in c:\\programdata\\anaconda3\\lib\\site-packages (from packaging>=17.0->marshmallow<4.0.0,>=3.18.0->dataclasses-json->llama-index-core<0.11.0,>=0.10.19->llama_index) (3.0.4)\n",
      "Requirement already satisfied: python-dateutil>=2.8.1 in c:\\programdata\\anaconda3\\lib\\site-packages (from pandas->llama-index-core<0.11.0,>=0.10.19->llama_index) (2.8.2)\n",
      "Requirement already satisfied: pytz>=2020.1 in c:\\programdata\\anaconda3\\lib\\site-packages (from pandas->llama-index-core<0.11.0,>=0.10.19->llama_index) (2021.3)\n",
      "Requirement already satisfied: six>=1.5 in c:\\programdata\\anaconda3\\lib\\site-packages (from python-dateutil>=2.8.1->pandas->llama-index-core<0.11.0,>=0.10.19->llama_index) (1.16.0)\n"
     ]
    }
   ],
   "source": [
    "!pip install --upgrade llama_index"
   ]
  },
  {
   "cell_type": "code",
   "execution_count": null,
   "metadata": {
    "id": "t8LxVMD-TZsQ"
   },
   "outputs": [],
   "source": [
    "#pip install llama_index[langchain]"
   ]
  },
  {
   "cell_type": "code",
   "execution_count": 6,
   "metadata": {
    "executionInfo": {
     "elapsed": 434,
     "status": "ok",
     "timestamp": 1707928075976,
     "user": {
      "displayName": "Vishal Tank",
      "userId": "09427577243376366633"
     },
     "user_tz": -330
    },
    "id": "zmLPAFzcTeeO"
   },
   "outputs": [],
   "source": [
    "from llama_index.llms import openai\n",
    "import os\n",
    "import openai"
   ]
  },
  {
   "cell_type": "code",
   "execution_count": 7,
   "metadata": {},
   "outputs": [],
   "source": [
    "# Set the API key\n",
    "filepath = r\"C:\\Users\\parul\\OneDrive\\Documents\\GenAI\\Help Mate\\HelpMate_Proj\\\\\"\n",
    "\n",
    "with open(filepath + \"OpenAI_API_Key.txt\", \"r\") as f:\n",
    "  openai.api_key = ' '.join(f.readlines())"
   ]
  },
  {
   "cell_type": "markdown",
   "metadata": {},
   "source": [
    "# Create a new document reader for a Insurance PDF file."
   ]
  },
  {
   "cell_type": "code",
   "execution_count": 9,
   "metadata": {
    "executionInfo": {
     "elapsed": 2,
     "status": "ok",
     "timestamp": 1707929800023,
     "user": {
      "displayName": "Vishal Tank",
      "userId": "09427577243376366633"
     },
     "user_tz": -330
    },
    "id": "glmqnsP6CzfV"
   },
   "outputs": [],
   "source": [
    "from llama_index.core import SimpleDirectoryReader\n",
    "reader = SimpleDirectoryReader(input_dir= r\"C:\\Users\\parul\\OneDrive\\Documents\\GenAI\\Llamaindex\\Semantic Spotter_Parul\\Semantic Spotter\")"
   ]
  },
  {
   "cell_type": "code",
   "execution_count": 10,
   "metadata": {
    "colab": {
     "base_uri": "https://localhost:8080/"
    },
    "executionInfo": {
     "elapsed": 3406,
     "status": "ok",
     "timestamp": 1707929805150,
     "user": {
      "displayName": "Vishal Tank",
      "userId": "09427577243376366633"
     },
     "user_tz": -330
    },
    "id": "oX-tBPeFbmr1",
    "outputId": "dee9f3e6-c58a-498d-d9d1-4a211111e630"
   },
   "outputs": [
    {
     "name": "stdout",
     "output_type": "stream",
     "text": [
      "Loaded 64 docs\n"
     ]
    }
   ],
   "source": [
    "# Load data from the new document.\n",
    "documents = reader.load_data()\n",
    "print(f\"Loaded {len(documents)} docs\")"
   ]
  },
  {
   "cell_type": "code",
   "execution_count": 11,
   "metadata": {
    "executionInfo": {
     "elapsed": 444,
     "status": "ok",
     "timestamp": 1707929807575,
     "user": {
      "displayName": "Vishal Tank",
      "userId": "09427577243376366633"
     },
     "user_tz": -330
    },
    "id": "sSiNlNCffwh_"
   },
   "outputs": [],
   "source": [
    "from llama_index.core.node_parser import SimpleNodeParser"
   ]
  },
  {
   "cell_type": "code",
   "execution_count": 12,
   "metadata": {
    "executionInfo": {
     "elapsed": 3,
     "status": "ok",
     "timestamp": 1707929809129,
     "user": {
      "displayName": "Vishal Tank",
      "userId": "09427577243376366633"
     },
     "user_tz": -330
    },
    "id": "c5o3MX95gWbG"
   },
   "outputs": [],
   "source": [
    "from llama_index.core import VectorStoreIndex"
   ]
  },
  {
   "cell_type": "code",
   "execution_count": 13,
   "metadata": {
    "executionInfo": {
     "elapsed": 3,
     "status": "ok",
     "timestamp": 1707929811184,
     "user": {
      "displayName": "Vishal Tank",
      "userId": "09427577243376366633"
     },
     "user_tz": -330
    },
    "id": "bukb9wQggihH"
   },
   "outputs": [],
   "source": [
    "# Create new nodes from the new documents.\n",
    "from IPython.display import display, HTML\n",
    "parser = SimpleNodeParser.from_defaults()\n",
    "nodes = parser.get_nodes_from_documents(documents)"
   ]
  },
  {
   "cell_type": "code",
   "execution_count": 14,
   "metadata": {
    "executionInfo": {
     "elapsed": 1552,
     "status": "ok",
     "timestamp": 1707929814898,
     "user": {
      "displayName": "Vishal Tank",
      "userId": "09427577243376366633"
     },
     "user_tz": -330
    },
    "id": "c9lqZBgygvH_"
   },
   "outputs": [],
   "source": [
    "#build index\n",
    "index = VectorStoreIndex(nodes) \n",
    "#Constructing Query Engine\n",
    "query_engine = index.as_query_engine(similarity_top_k = 4) "
   ]
  },
  {
   "cell_type": "code",
   "execution_count": 15,
   "metadata": {
    "executionInfo": {
     "elapsed": 2088,
     "status": "ok",
     "timestamp": 1707929819524,
     "user": {
      "displayName": "Vishal Tank",
      "userId": "09427577243376366633"
     },
     "user_tz": -330
    },
    "id": "awNjjE0Ag6pX"
   },
   "outputs": [],
   "source": [
    "# Query the engine with a question.\n",
    "response = query_engine.query(\"What are the death benefits received in the Member Life Insurance?\")"
   ]
  },
  {
   "cell_type": "code",
   "execution_count": 24,
   "metadata": {},
   "outputs": [
    {
     "data": {
      "text/html": [
       "<p style=\"font-size:20px\">The death benefits received in the Member Life Insurance include the payment of the individual policy amount if the Member dies within the 31-day individual purchase period described in the policy. No payment will be made until the Principal receives written proof of the Member's death. Additionally, if a beneficiary is named, the payment will be made to the designated beneficiary, and if no beneficiary is named, the payment will be made to the Member's estate.</p>"
      ],
      "text/plain": [
       "<IPython.core.display.HTML object>"
      ]
     },
     "metadata": {},
     "output_type": "display_data"
    }
   ],
   "source": [
    "# Print the synthesized response.\n",
    "display(HTML(f'<p style=\"font-size:20px\">{response.response}</p>'))"
   ]
  },
  {
   "cell_type": "code",
   "execution_count": 16,
   "metadata": {
    "colab": {
     "base_uri": "https://localhost:8080/",
     "height": 53
    },
    "executionInfo": {
     "elapsed": 5,
     "status": "ok",
     "timestamp": 1707929821595,
     "user": {
      "displayName": "Vishal Tank",
      "userId": "09427577243376366633"
     },
     "user_tz": -330
    },
    "id": "3rxMmAexhfaF",
    "outputId": "c4cc1faa-11ca-4a3d-db69-56d598bcba96"
   },
   "outputs": [
    {
     "data": {
      "text/plain": [
       "\"The death benefits received in the Member Life Insurance include the payment of the individual policy amount if the Member dies within the 31-day individual purchase period described in the policy. No payment will be made until the Principal receives written proof of the Member's death. Additionally, if a beneficiary is named, the payment will be made to the designated beneficiary, and if no beneficiary is named, the payment will be made to the Member's estate.\""
      ]
     },
     "execution_count": 16,
     "metadata": {},
     "output_type": "execute_result"
    }
   ],
   "source": [
    "response.response"
   ]
  },
  {
   "cell_type": "code",
   "execution_count": 17,
   "metadata": {
    "colab": {
     "base_uri": "https://localhost:8080/"
    },
    "executionInfo": {
     "elapsed": 482,
     "status": "ok",
     "timestamp": 1707930127229,
     "user": {
      "displayName": "Vishal Tank",
      "userId": "09427577243376366633"
     },
     "user_tz": -330
    },
    "id": "CCMLHqqehjwF",
    "outputId": "da0d6378-febb-4831-f3a0-48fba559fcc8"
   },
   "outputs": [
    {
     "data": {
      "text/plain": [
       "NodeWithScore(node=TextNode(id_='51b35714-bcfa-4988-9008-ead9eda8c93e', embedding=None, metadata={'page_label': '57', 'file_name': 'Principal-Sample-Life-Insurance-Policy.pdf', 'file_path': 'C:\\\\Users\\\\parul\\\\OneDrive\\\\Documents\\\\GenAI\\\\Llamaindex\\\\Semantic Spotter_Parul\\\\Semantic Spotter\\\\Principal-Sample-Life-Insurance-Policy.pdf', 'file_type': 'application/pdf', 'file_size': 222772, 'creation_date': '2024-03-14', 'last_modified_date': '2024-03-13'}, excluded_embed_metadata_keys=['file_name', 'file_type', 'file_size', 'creation_date', 'last_modified_date', 'last_accessed_date'], excluded_llm_metadata_keys=['file_name', 'file_type', 'file_size', 'creation_date', 'last_modified_date', 'last_accessed_date'], relationships={<NodeRelationship.SOURCE: '1'>: RelatedNodeInfo(node_id='17314380-3cbb-43bf-b285-b60d173c28b5', node_type=<ObjectType.DOCUMENT: '4'>, metadata={'page_label': '57', 'file_name': 'Principal-Sample-Life-Insurance-Policy.pdf', 'file_path': 'C:\\\\Users\\\\parul\\\\OneDrive\\\\Documents\\\\GenAI\\\\Llamaindex\\\\Semantic Spotter_Parul\\\\Semantic Spotter\\\\Principal-Sample-Life-Insurance-Policy.pdf', 'file_type': 'application/pdf', 'file_size': 222772, 'creation_date': '2024-03-14', 'last_modified_date': '2024-03-13'}, hash='2fffe025a20507bab78fc308486b1f8882473606367ad06f658c89f1e4ae9711'), <NodeRelationship.PREVIOUS: '2'>: RelatedNodeInfo(node_id='484063d9-d282-4633-a7fd-3ad46bb64064', node_type=<ObjectType.TEXT: '1'>, metadata={'page_label': '56', 'file_name': 'Principal-Sample-Life-Insurance-Policy.pdf', 'file_path': 'C:\\\\Users\\\\parul\\\\OneDrive\\\\Documents\\\\GenAI\\\\Llamaindex\\\\Semantic Spotter_Parul\\\\Semantic Spotter\\\\Principal-Sample-Life-Insurance-Policy.pdf', 'file_type': 'application/pdf', 'file_size': 222772, 'creation_date': '2024-03-14', 'last_modified_date': '2024-03-13'}, hash='8758f694516fbc57ab22033f65b4b9c9a5d184cb7a32a6b8e5fe751e8a48cf68'), <NodeRelationship.NEXT: '3'>: RelatedNodeInfo(node_id='b984d2dd-b103-4b74-b2ed-77ae7b1c247d', node_type=<ObjectType.TEXT: '1'>, metadata={}, hash='1a794f14a5a897f8148b457477dad449d40151645973ae6987f7fcc9aa74c8db')}, text='This policy has been updated effective  January 1, 2014  \\n \\n      PART IV - BENEFITS  \\nGC 6015  Section B - Member Accidental Death and \\nDismemberment Insurance, Page 5  \\n  \\n \\n  % of Scheduled  \\n Covered Loss  Benefit  \\n   \\nLoss of Speech and/or Hearing    \\n Speech and Hearing  100%  \\n   \\n Speech or Hearing  50% \\n   \\n Hearing in One Ear  25% \\n \\nLoss must be determined by a Physician to be permanent, complete, and irreversible.   \\n Total payment for all losses that result from the same accident will not exceed the Scheduled Benefit (or approved amount, if applicable).  Payment for Loss will be to t he Member.  \\n For this benefit, the term \"Loss\" means a total and irrevocable Loss of speech or hearing, which has continued for 12 consecutive months. \\n \\n \\nArticle 7 - Repatriation Benefit  \\n \\nIf a benefit is paid under this Section B for loss of the Member\\'s lif e and death occurred at least \\n100 miles away from the Member\\'s permanent place of residence, all customary and reasonable \\nexpenses incurred for preparation of the body and its transportation to the place of burial or \\ncremation will be paid up to a maximum benefit payment of $2,000.  \\n \\n \\nArticle 8 - Educational Benefit  \\n \\nIf a benefit is paid under this Section B for loss of the Member\\'s life, an extra benefit of $3,000 \\nwill be paid annually for a maximum of four years to each Qualified Student.  This annual \\nbenefit will be paid consecutively, while the Qualified Student continues his or her education as \\na Full -Time Student at an accredited post -secondary school.  \\n \\nFor the purpose of this benefit, \"Qualified Student\" means a Dependent Child who is, at the time \\nof the Member\\'s death, a Full -Time Student at an accredited post -secondary school.  A 12th \\ngrade student will become a Qualified Student if he or she enrolls in an accredited post -\\nsecondary school within 12 months of the Member\\'s death.  \\n  \\nArticle 9 - Limit ations  \\n \\nPayment will not be made for any loss to which a contributing cause is:', start_char_idx=20, end_char_idx=2020, text_template='{metadata_str}\\n\\n{content}', metadata_template='{key}: {value}', metadata_seperator='\\n'), score=0.854457102752587)"
      ]
     },
     "execution_count": 17,
     "metadata": {},
     "output_type": "execute_result"
    }
   ],
   "source": [
    "#Check the source node\n",
    "response.source_nodes[1]"
   ]
  },
  {
   "cell_type": "code",
   "execution_count": 18,
   "metadata": {
    "colab": {
     "base_uri": "https://localhost:8080/",
     "height": 36
    },
    "executionInfo": {
     "elapsed": 4,
     "status": "ok",
     "timestamp": 1707930138141,
     "user": {
      "displayName": "Vishal Tank",
      "userId": "09427577243376366633"
     },
     "user_tz": -330
    },
    "id": "CXRficNvh_9u",
    "outputId": "59fd37cb-be4d-462a-d867-7b972904b31f"
   },
   "outputs": [
    {
     "data": {
      "text/plain": [
       "'Principal-Sample-Life-Insurance-Policy.pdf page no 57'"
      ]
     },
     "execution_count": 18,
     "metadata": {},
     "output_type": "execute_result"
    }
   ],
   "source": [
    "#Extract the file name and page number\n",
    "response.source_nodes[1].node.metadata['file_name'] + \" page no \" + response.source_nodes[1].node.metadata['page_label']"
   ]
  },
  {
   "cell_type": "code",
   "execution_count": 20,
   "metadata": {
    "colab": {
     "base_uri": "https://localhost:8080/"
    },
    "executionInfo": {
     "elapsed": 460,
     "status": "ok",
     "timestamp": 1707930145918,
     "user": {
      "displayName": "Vishal Tank",
      "userId": "09427577243376366633"
     },
     "user_tz": -330
    },
    "id": "2A9pQLb5iOFw",
    "outputId": "3ba9e778-c6a0-4bd0-8d89-1759d4b8ee87"
   },
   "outputs": [
    {
     "data": {
      "text/plain": [
       "0.854457102752587"
      ]
     },
     "execution_count": 20,
     "metadata": {},
     "output_type": "execute_result"
    }
   ],
   "source": [
    "#Extract the score\n",
    "response.source_nodes[1].score"
   ]
  },
  {
   "cell_type": "code",
   "execution_count": 21,
   "metadata": {
    "colab": {
     "base_uri": "https://localhost:8080/",
     "height": 140
    },
    "executionInfo": {
     "elapsed": 434,
     "status": "ok",
     "timestamp": 1707929930690,
     "user": {
      "displayName": "Vishal Tank",
      "userId": "09427577243376366633"
     },
     "user_tz": -330
    },
    "id": "T7N3nIiWjbYu",
    "outputId": "a13d653f-3910-4e74-94d4-620e11390756"
   },
   "outputs": [
    {
     "data": {
      "text/plain": [
       "\"This policy has been updated effective  January 1, 2014  \\n \\n \\nPART IV - BENEFITS  \\nGC 6013  Section A - Member Life Insurance, Page 2  \\n Member's death, the Death B enefits Payable may be withheld until additional information has \\nbeen received or the trial has been held.  \\n \\nIf a Member who was insured dies within the 31- day individual purchase period described in \\nPART III, Section F, The Principal will pay his or her be neficiary the individual policy amount, \\nif any, the Member had the right to purchase.  \\n No payment will be made before The Principal receives Written proof of the Member's death.  \\n  \\nArticle 3 - Beneficiary  \\n \\nA beneficiary should be named at the time a Member applies or enrolls under this Group Policy.  \\nA Member may name or later change a named beneficiary by sending a Written request to The Principal.  A change will not be effective until recorded by The Principal.  Once recorded, the change will apply as of t he date the request was Signed.  If The Principal properly pays any \\nbenefit before a change request is received, that payment may not be contested.  Further:  \\n a. The naming of a new beneficiary in an application for individual purchase under PART III, Section F, Article 1, will be treated as a beneficiary change request under this Group \\nPolicy.  \\n b. If a Member's terminated insurance is reinstated, his or her beneficiary will be as recorded on the date of termination. \\n \\nIf a Member is insured under this Group Policy on its Date of Issue and this insurance replaces \\ninsurance in force on the day immediately before the Date of Issue, the beneficiary named in such replaced insurance and recorded by the Policyholder or The Principal will be the beneficiary under this Group Policy until a new beneficiary is named.  \\n  \\nArticle 4 - Facility of Payment  \\n \\nIf any of the below occur, benefits will be paid as stated.  All such payments will discharge The \\nPrincipal to the full extent of those payments.  \\n a. If a beneficiary is found guilty of the Member's death, such beneficiary may be disqualified from receiving any benefit due.  Payment may then be made to any contingent beneficiary or to the executor or administrator of the Member's estate.  \\n b. Any benefit due a beneficiary w ho dies before the Member's death will be paid in equal \\nshares to the Member's surviving beneficiaries.\""
      ]
     },
     "execution_count": 21,
     "metadata": {},
     "output_type": "execute_result"
    }
   ],
   "source": [
    "response.source_nodes[0].node.text"
   ]
  },
  {
   "cell_type": "code",
   "execution_count": 22,
   "metadata": {},
   "outputs": [
    {
     "data": {
      "text/plain": [
       "Response(response=\"The death benefits received in the Member Life Insurance include the payment of the individual policy amount if the Member dies within the 31-day individual purchase period described in the policy. No payment will be made until the Principal receives written proof of the Member's death. Additionally, if a beneficiary is named, the payment will be made to the designated beneficiary, and if no beneficiary is named, the payment will be made to the Member's estate.\", source_nodes=[NodeWithScore(node=TextNode(id_='2fb490e4-7f48-4a4a-a4ee-0b8aa4a5328c', embedding=None, metadata={'page_label': '47', 'file_name': 'Principal-Sample-Life-Insurance-Policy.pdf', 'file_path': 'C:\\\\Users\\\\parul\\\\OneDrive\\\\Documents\\\\GenAI\\\\Llamaindex\\\\Semantic Spotter_Parul\\\\Semantic Spotter\\\\Principal-Sample-Life-Insurance-Policy.pdf', 'file_type': 'application/pdf', 'file_size': 222772, 'creation_date': '2024-03-14', 'last_modified_date': '2024-03-13'}, excluded_embed_metadata_keys=['file_name', 'file_type', 'file_size', 'creation_date', 'last_modified_date', 'last_accessed_date'], excluded_llm_metadata_keys=['file_name', 'file_type', 'file_size', 'creation_date', 'last_modified_date', 'last_accessed_date'], relationships={<NodeRelationship.SOURCE: '1'>: RelatedNodeInfo(node_id='16c52f44-c203-4092-83be-f3da75d638a1', node_type=<ObjectType.DOCUMENT: '4'>, metadata={'page_label': '47', 'file_name': 'Principal-Sample-Life-Insurance-Policy.pdf', 'file_path': 'C:\\\\Users\\\\parul\\\\OneDrive\\\\Documents\\\\GenAI\\\\Llamaindex\\\\Semantic Spotter_Parul\\\\Semantic Spotter\\\\Principal-Sample-Life-Insurance-Policy.pdf', 'file_type': 'application/pdf', 'file_size': 222772, 'creation_date': '2024-03-14', 'last_modified_date': '2024-03-13'}, hash='5436ac8a1b82cd6a5bf5b7f8c34621ce1efb5f3f0b32854bf304641be2a85c91'), <NodeRelationship.PREVIOUS: '2'>: RelatedNodeInfo(node_id='cb1a064b-5486-4d37-ba50-5d7002e2329c', node_type=<ObjectType.TEXT: '1'>, metadata={'page_label': '46', 'file_name': 'Principal-Sample-Life-Insurance-Policy.pdf', 'file_path': 'C:\\\\Users\\\\parul\\\\OneDrive\\\\Documents\\\\GenAI\\\\Llamaindex\\\\Semantic Spotter_Parul\\\\Semantic Spotter\\\\Principal-Sample-Life-Insurance-Policy.pdf', 'file_type': 'application/pdf', 'file_size': 222772, 'creation_date': '2024-03-14', 'last_modified_date': '2024-03-13'}, hash='e528d9190e5215170c3dd1a467f243de166bd3aa5a8305e45d038801700a4b0a'), <NodeRelationship.NEXT: '3'>: RelatedNodeInfo(node_id='d3974a65-c89f-4411-8625-0f8ddd14aeee', node_type=<ObjectType.TEXT: '1'>, metadata={}, hash='7ce0d8d68059aa9a36180fe308d7de5d45f79d02ca4fc2332e03543c034d89f2')}, text=\"This policy has been updated effective  January 1, 2014  \\n \\n \\nPART IV - BENEFITS  \\nGC 6013  Section A - Member Life Insurance, Page 2  \\n Member's death, the Death B enefits Payable may be withheld until additional information has \\nbeen received or the trial has been held.  \\n \\nIf a Member who was insured dies within the 31- day individual purchase period described in \\nPART III, Section F, The Principal will pay his or her be neficiary the individual policy amount, \\nif any, the Member had the right to purchase.  \\n No payment will be made before The Principal receives Written proof of the Member's death.  \\n  \\nArticle 3 - Beneficiary  \\n \\nA beneficiary should be named at the time a Member applies or enrolls under this Group Policy.  \\nA Member may name or later change a named beneficiary by sending a Written request to The Principal.  A change will not be effective until recorded by The Principal.  Once recorded, the change will apply as of t he date the request was Signed.  If The Principal properly pays any \\nbenefit before a change request is received, that payment may not be contested.  Further:  \\n a. The naming of a new beneficiary in an application for individual purchase under PART III, Section F, Article 1, will be treated as a beneficiary change request under this Group \\nPolicy.  \\n b. If a Member's terminated insurance is reinstated, his or her beneficiary will be as recorded on the date of termination. \\n \\nIf a Member is insured under this Group Policy on its Date of Issue and this insurance replaces \\ninsurance in force on the day immediately before the Date of Issue, the beneficiary named in such replaced insurance and recorded by the Policyholder or The Principal will be the beneficiary under this Group Policy until a new beneficiary is named.  \\n  \\nArticle 4 - Facility of Payment  \\n \\nIf any of the below occur, benefits will be paid as stated.  All such payments will discharge The \\nPrincipal to the full extent of those payments.  \\n a. If a beneficiary is found guilty of the Member's death, such beneficiary may be disqualified from receiving any benefit due.  Payment may then be made to any contingent beneficiary or to the executor or administrator of the Member's estate.  \\n b. Any benefit due a beneficiary w ho dies before the Member's death will be paid in equal \\nshares to the Member's surviving beneficiaries.\", start_char_idx=21, end_char_idx=2376, text_template='{metadata_str}\\n\\n{content}', metadata_template='{key}: {value}', metadata_seperator='\\n'), score=0.8587303196197141), NodeWithScore(node=TextNode(id_='51b35714-bcfa-4988-9008-ead9eda8c93e', embedding=None, metadata={'page_label': '57', 'file_name': 'Principal-Sample-Life-Insurance-Policy.pdf', 'file_path': 'C:\\\\Users\\\\parul\\\\OneDrive\\\\Documents\\\\GenAI\\\\Llamaindex\\\\Semantic Spotter_Parul\\\\Semantic Spotter\\\\Principal-Sample-Life-Insurance-Policy.pdf', 'file_type': 'application/pdf', 'file_size': 222772, 'creation_date': '2024-03-14', 'last_modified_date': '2024-03-13'}, excluded_embed_metadata_keys=['file_name', 'file_type', 'file_size', 'creation_date', 'last_modified_date', 'last_accessed_date'], excluded_llm_metadata_keys=['file_name', 'file_type', 'file_size', 'creation_date', 'last_modified_date', 'last_accessed_date'], relationships={<NodeRelationship.SOURCE: '1'>: RelatedNodeInfo(node_id='17314380-3cbb-43bf-b285-b60d173c28b5', node_type=<ObjectType.DOCUMENT: '4'>, metadata={'page_label': '57', 'file_name': 'Principal-Sample-Life-Insurance-Policy.pdf', 'file_path': 'C:\\\\Users\\\\parul\\\\OneDrive\\\\Documents\\\\GenAI\\\\Llamaindex\\\\Semantic Spotter_Parul\\\\Semantic Spotter\\\\Principal-Sample-Life-Insurance-Policy.pdf', 'file_type': 'application/pdf', 'file_size': 222772, 'creation_date': '2024-03-14', 'last_modified_date': '2024-03-13'}, hash='2fffe025a20507bab78fc308486b1f8882473606367ad06f658c89f1e4ae9711'), <NodeRelationship.PREVIOUS: '2'>: RelatedNodeInfo(node_id='484063d9-d282-4633-a7fd-3ad46bb64064', node_type=<ObjectType.TEXT: '1'>, metadata={'page_label': '56', 'file_name': 'Principal-Sample-Life-Insurance-Policy.pdf', 'file_path': 'C:\\\\Users\\\\parul\\\\OneDrive\\\\Documents\\\\GenAI\\\\Llamaindex\\\\Semantic Spotter_Parul\\\\Semantic Spotter\\\\Principal-Sample-Life-Insurance-Policy.pdf', 'file_type': 'application/pdf', 'file_size': 222772, 'creation_date': '2024-03-14', 'last_modified_date': '2024-03-13'}, hash='8758f694516fbc57ab22033f65b4b9c9a5d184cb7a32a6b8e5fe751e8a48cf68'), <NodeRelationship.NEXT: '3'>: RelatedNodeInfo(node_id='b984d2dd-b103-4b74-b2ed-77ae7b1c247d', node_type=<ObjectType.TEXT: '1'>, metadata={}, hash='1a794f14a5a897f8148b457477dad449d40151645973ae6987f7fcc9aa74c8db')}, text='This policy has been updated effective  January 1, 2014  \\n \\n      PART IV - BENEFITS  \\nGC 6015  Section B - Member Accidental Death and \\nDismemberment Insurance, Page 5  \\n  \\n \\n  % of Scheduled  \\n Covered Loss  Benefit  \\n   \\nLoss of Speech and/or Hearing    \\n Speech and Hearing  100%  \\n   \\n Speech or Hearing  50% \\n   \\n Hearing in One Ear  25% \\n \\nLoss must be determined by a Physician to be permanent, complete, and irreversible.   \\n Total payment for all losses that result from the same accident will not exceed the Scheduled Benefit (or approved amount, if applicable).  Payment for Loss will be to t he Member.  \\n For this benefit, the term \"Loss\" means a total and irrevocable Loss of speech or hearing, which has continued for 12 consecutive months. \\n \\n \\nArticle 7 - Repatriation Benefit  \\n \\nIf a benefit is paid under this Section B for loss of the Member\\'s lif e and death occurred at least \\n100 miles away from the Member\\'s permanent place of residence, all customary and reasonable \\nexpenses incurred for preparation of the body and its transportation to the place of burial or \\ncremation will be paid up to a maximum benefit payment of $2,000.  \\n \\n \\nArticle 8 - Educational Benefit  \\n \\nIf a benefit is paid under this Section B for loss of the Member\\'s life, an extra benefit of $3,000 \\nwill be paid annually for a maximum of four years to each Qualified Student.  This annual \\nbenefit will be paid consecutively, while the Qualified Student continues his or her education as \\na Full -Time Student at an accredited post -secondary school.  \\n \\nFor the purpose of this benefit, \"Qualified Student\" means a Dependent Child who is, at the time \\nof the Member\\'s death, a Full -Time Student at an accredited post -secondary school.  A 12th \\ngrade student will become a Qualified Student if he or she enrolls in an accredited post -\\nsecondary school within 12 months of the Member\\'s death.  \\n  \\nArticle 9 - Limit ations  \\n \\nPayment will not be made for any loss to which a contributing cause is:', start_char_idx=20, end_char_idx=2020, text_template='{metadata_str}\\n\\n{content}', metadata_template='{key}: {value}', metadata_seperator='\\n'), score=0.854457102752587), NodeWithScore(node=TextNode(id_='56e99ad1-3493-4339-9b30-8bc99057c478', embedding=None, metadata={'page_label': '54', 'file_name': 'Principal-Sample-Life-Insurance-Policy.pdf', 'file_path': 'C:\\\\Users\\\\parul\\\\OneDrive\\\\Documents\\\\GenAI\\\\Llamaindex\\\\Semantic Spotter_Parul\\\\Semantic Spotter\\\\Principal-Sample-Life-Insurance-Policy.pdf', 'file_type': 'application/pdf', 'file_size': 222772, 'creation_date': '2024-03-14', 'last_modified_date': '2024-03-13'}, excluded_embed_metadata_keys=['file_name', 'file_type', 'file_size', 'creation_date', 'last_modified_date', 'last_accessed_date'], excluded_llm_metadata_keys=['file_name', 'file_type', 'file_size', 'creation_date', 'last_modified_date', 'last_accessed_date'], relationships={<NodeRelationship.SOURCE: '1'>: RelatedNodeInfo(node_id='e321fe50-c1fd-4509-8bfb-de08f3ccead7', node_type=<ObjectType.DOCUMENT: '4'>, metadata={'page_label': '54', 'file_name': 'Principal-Sample-Life-Insurance-Policy.pdf', 'file_path': 'C:\\\\Users\\\\parul\\\\OneDrive\\\\Documents\\\\GenAI\\\\Llamaindex\\\\Semantic Spotter_Parul\\\\Semantic Spotter\\\\Principal-Sample-Life-Insurance-Policy.pdf', 'file_type': 'application/pdf', 'file_size': 222772, 'creation_date': '2024-03-14', 'last_modified_date': '2024-03-13'}, hash='52c4598b6c6dc2be8ff530aefe0d08fcccf28e62994caf35026510386b9b1e1c'), <NodeRelationship.PREVIOUS: '2'>: RelatedNodeInfo(node_id='33e4a254-8068-471c-b7ab-e6258e5b8e18', node_type=<ObjectType.TEXT: '1'>, metadata={'page_label': '53', 'file_name': 'Principal-Sample-Life-Insurance-Policy.pdf', 'file_path': 'C:\\\\Users\\\\parul\\\\OneDrive\\\\Documents\\\\GenAI\\\\Llamaindex\\\\Semantic Spotter_Parul\\\\Semantic Spotter\\\\Principal-Sample-Life-Insurance-Policy.pdf', 'file_type': 'application/pdf', 'file_size': 222772, 'creation_date': '2024-03-14', 'last_modified_date': '2024-03-13'}, hash='9852451846117e3074f0acfd909a730263d8eaee700313f45fc92368917c57f4'), <NodeRelationship.NEXT: '3'>: RelatedNodeInfo(node_id='548e7c5a-379f-4d7d-81be-04bcf91eab31', node_type=<ObjectType.TEXT: '1'>, metadata={}, hash='a9030c8b3429da0eea0b8d13ae7148592be2d37f39005b55e519ee1e9bbbb375')}, text=\"This policy has been updated effective  January 1, 2014  \\n \\n      PART IV - BENEFITS  \\nGC 6015  Section B - Member Accidental Death and \\nDismemberment Insurance, Page 2  \\n f. claim requirements listed in PART IV, Section D, must be sa tisfied; and  \\n \\ng. all medical evidence must be satisfactory to The Principal.  \\n  \\nArticle 3 - Benefits Payable \\n \\nIf all of the benefit qualifications are met, The Principal will pay:  \\n \\na. 100% of the Scheduled Benefit (or approved amount, if applicable) in forc e for loss of life; \\nor \\n b. 50% of the Scheduled Benefit (or approved amount, if applicable) in force if one hand is severed at or above the wrist; or  \\n c. 25% of the Scheduled Benefit (or approved amount, if applicable) in force for loss of thumb and index finger on the same hand; or  \\n d. 50% of the Scheduled Benefit (or approved amount, if applicable) in force if one foot is severed at or above the ankle; or  \\n e. 50% of the Scheduled Benefit (or approved amount, if applicable) in force if the sight of one eye  is permanently lost (For this purpose, vision not correctable to better than 20/200 \\nwill be considered loss of sight.); or  \\n \\nf. 100% of the Scheduled Benefit (or approved amount, if applicable) in force for more than one of the losses listed in b., d., or e. above.  \\n Total payment for all losses under this Article 3 that result from the same accident will not exceed the Scheduled Benefit (or approved amount, if applicable).  Payment for loss of life will be to the beneficiary named for Member Life Insurance.   Payment will be subject to the \\nBeneficiary, Facility of Payment and Settlement of Proceeds provisions of PART IV, Section A.  Payment for all other losses will be to the Member.  \\n \\nDisappearance \\n \\nIt will be presumed that a Member has lost his or her life if:  \\n \\na. the Member's body has not been found within 365 days after the disappearance of a conveyance in which the Member was an occupant at the time of disappearance; and  \\n b. the disappearance of the conveyance was due to its accidental wrecking or sinking;  and \\n c. this Group Policy would have covered the injury resulting from the accident.\", start_char_idx=20, end_char_idx=2173, text_template='{metadata_str}\\n\\n{content}', metadata_template='{key}: {value}', metadata_seperator='\\n'), score=0.853835588551851), NodeWithScore(node=TextNode(id_='fb16c1a7-310f-465c-9bc1-fbe3cc36fb25', embedding=None, metadata={'page_label': '60', 'file_name': 'Principal-Sample-Life-Insurance-Policy.pdf', 'file_path': 'C:\\\\Users\\\\parul\\\\OneDrive\\\\Documents\\\\GenAI\\\\Llamaindex\\\\Semantic Spotter_Parul\\\\Semantic Spotter\\\\Principal-Sample-Life-Insurance-Policy.pdf', 'file_type': 'application/pdf', 'file_size': 222772, 'creation_date': '2024-03-14', 'last_modified_date': '2024-03-13'}, excluded_embed_metadata_keys=['file_name', 'file_type', 'file_size', 'creation_date', 'last_modified_date', 'last_accessed_date'], excluded_llm_metadata_keys=['file_name', 'file_type', 'file_size', 'creation_date', 'last_modified_date', 'last_accessed_date'], relationships={<NodeRelationship.SOURCE: '1'>: RelatedNodeInfo(node_id='41fa03be-c91d-4317-870a-7a549ea1f40b', node_type=<ObjectType.DOCUMENT: '4'>, metadata={'page_label': '60', 'file_name': 'Principal-Sample-Life-Insurance-Policy.pdf', 'file_path': 'C:\\\\Users\\\\parul\\\\OneDrive\\\\Documents\\\\GenAI\\\\Llamaindex\\\\Semantic Spotter_Parul\\\\Semantic Spotter\\\\Principal-Sample-Life-Insurance-Policy.pdf', 'file_type': 'application/pdf', 'file_size': 222772, 'creation_date': '2024-03-14', 'last_modified_date': '2024-03-13'}, hash='a3b1f5837b887fc64d944ae0b0f16f8b83c88bccdc442f70cfc1131d89ac6626'), <NodeRelationship.PREVIOUS: '2'>: RelatedNodeInfo(node_id='e603da02-4a69-4bb3-8687-cc5189a8eb29', node_type=<ObjectType.TEXT: '1'>, metadata={'page_label': '59', 'file_name': 'Principal-Sample-Life-Insurance-Policy.pdf', 'file_path': 'C:\\\\Users\\\\parul\\\\OneDrive\\\\Documents\\\\GenAI\\\\Llamaindex\\\\Semantic Spotter_Parul\\\\Semantic Spotter\\\\Principal-Sample-Life-Insurance-Policy.pdf', 'file_type': 'application/pdf', 'file_size': 222772, 'creation_date': '2024-03-14', 'last_modified_date': '2024-03-13'}, hash='41d2e176ac746ae9812f12270551cd98bd2871265a42ca45e3a1ef6e80e2f1c1'), <NodeRelationship.NEXT: '3'>: RelatedNodeInfo(node_id='de30869d-2b53-4de7-90cb-364b5db19751', node_type=<ObjectType.TEXT: '1'>, metadata={}, hash='3e3e020c57d3568e0d014374650884c4f838498e4ddca801e1f9559104fe86ab')}, text=\"This policy has been updated effective  January 1, 2014  \\n \\n \\nPART IV - BENEFITS  \\nGC 6016       Section C - Dependent Life Insurance, Page 2  \\n If a Dependent who was insured dies during the 31- day individual purchase period described in \\nPART II I, Section F, Article 2, The Principal will pay the individual policy amount, if any, the \\nDependent had the right to purchase.  \\n \\nUnless a Beneficiary has been designated, payment will be to the Member if he or she survives the Dependent.  If the Member does  not survive the Dependent and a beneficiary for Dependent \\nLife has not been named, payment will be to the person named as beneficiary for Member Life Insurance.  However, if the Member is suspected or charged with the Dependent's death, the Death Benefits  Payable may be withheld until additional information has been received or the \\ntrial has been held.  If the Member is found guilty of the Dependent's death, he or she may be disqualified from receiving any benefit due.  Payment may then be made to the executor or administrator of the Dependent's estate.  Payment will be subject to the Beneficiary provisions in Article 3 and the Facility of Payment and Settlement of Proceeds provisions of PART IV, Section A.  \\n No payment will be made before The Principal receives Written proof of the Dependent's death.  \\n \\n \\nArticle 3 - Beneficiary  \\n \\nA Member may name or later change a named beneficiary by sending a Written request to The \\nPrincipal.  A change will not be effective until recorded by The Principal.  Once recorded, the change will apply as of the date the request was Signed.  If The Principal properly pays any benefit before a change request is received, that payment may not be contested.\", start_char_idx=19, end_char_idx=1740, text_template='{metadata_str}\\n\\n{content}', metadata_template='{key}: {value}', metadata_seperator='\\n'), score=0.8514405991256048)], metadata={'2fb490e4-7f48-4a4a-a4ee-0b8aa4a5328c': {'page_label': '47', 'file_name': 'Principal-Sample-Life-Insurance-Policy.pdf', 'file_path': 'C:\\\\Users\\\\parul\\\\OneDrive\\\\Documents\\\\GenAI\\\\Llamaindex\\\\Semantic Spotter_Parul\\\\Semantic Spotter\\\\Principal-Sample-Life-Insurance-Policy.pdf', 'file_type': 'application/pdf', 'file_size': 222772, 'creation_date': '2024-03-14', 'last_modified_date': '2024-03-13'}, '51b35714-bcfa-4988-9008-ead9eda8c93e': {'page_label': '57', 'file_name': 'Principal-Sample-Life-Insurance-Policy.pdf', 'file_path': 'C:\\\\Users\\\\parul\\\\OneDrive\\\\Documents\\\\GenAI\\\\Llamaindex\\\\Semantic Spotter_Parul\\\\Semantic Spotter\\\\Principal-Sample-Life-Insurance-Policy.pdf', 'file_type': 'application/pdf', 'file_size': 222772, 'creation_date': '2024-03-14', 'last_modified_date': '2024-03-13'}, '56e99ad1-3493-4339-9b30-8bc99057c478': {'page_label': '54', 'file_name': 'Principal-Sample-Life-Insurance-Policy.pdf', 'file_path': 'C:\\\\Users\\\\parul\\\\OneDrive\\\\Documents\\\\GenAI\\\\Llamaindex\\\\Semantic Spotter_Parul\\\\Semantic Spotter\\\\Principal-Sample-Life-Insurance-Policy.pdf', 'file_type': 'application/pdf', 'file_size': 222772, 'creation_date': '2024-03-14', 'last_modified_date': '2024-03-13'}, 'fb16c1a7-310f-465c-9bc1-fbe3cc36fb25': {'page_label': '60', 'file_name': 'Principal-Sample-Life-Insurance-Policy.pdf', 'file_path': 'C:\\\\Users\\\\parul\\\\OneDrive\\\\Documents\\\\GenAI\\\\Llamaindex\\\\Semantic Spotter_Parul\\\\Semantic Spotter\\\\Principal-Sample-Life-Insurance-Policy.pdf', 'file_type': 'application/pdf', 'file_size': 222772, 'creation_date': '2024-03-14', 'last_modified_date': '2024-03-13'}})"
      ]
     },
     "execution_count": 22,
     "metadata": {},
     "output_type": "execute_result"
    }
   ],
   "source": [
    "response"
   ]
  },
  {
   "cell_type": "code",
   "execution_count": 23,
   "metadata": {
    "executionInfo": {
     "elapsed": 483,
     "status": "ok",
     "timestamp": 1707930321018,
     "user": {
      "displayName": "Vishal Tank",
      "userId": "09427577243376366633"
     },
     "user_tz": -330
    },
    "id": "Sk1YSmnIjoQS"
   },
   "outputs": [],
   "source": [
    "## Query response function\n",
    "def query_response(user_input):\n",
    "  response = query_engine.query(user_input)\n",
    "  file_name = response.source_nodes[0].node.metadata['file_name'] + \" page nos \" + response.source_nodes[0].node.metadata['page_label'] + \",\" + response.source_nodes[1].node.metadata['page_label']\n",
    "  final_response = response.response + '\\n Check further at ' + file_name\n",
    "  return final_response"
   ]
  },
  {
   "cell_type": "code",
   "execution_count": 25,
   "metadata": {
    "executionInfo": {
     "elapsed": 548,
     "status": "ok",
     "timestamp": 1707930407103,
     "user": {
      "displayName": "Vishal Tank",
      "userId": "09427577243376366633"
     },
     "user_tz": -330
    },
    "id": "9kfZrz39lHvN"
   },
   "outputs": [],
   "source": [
    "def initialize_conv():\n",
    "  print('Feel free to ask Questions regarding Life Insurance Policies, Press exit once you are done')\n",
    "  while True:\n",
    "    user_input = input()\n",
    "    if user_input.lower() == 'exit':\n",
    "      print('Exiting the program... bye')\n",
    "      break\n",
    "    else:\n",
    "      response = query_response(user_input)\n",
    "      display(HTML(f'<p style=\"font-size:20px\">{response}</p>'))"
   ]
  },
  {
   "cell_type": "code",
   "execution_count": 26,
   "metadata": {
    "colab": {
     "base_uri": "https://localhost:8080/",
     "height": 380
    },
    "executionInfo": {
     "elapsed": 291080,
     "status": "ok",
     "timestamp": 1707930718368,
     "user": {
      "displayName": "Vishal Tank",
      "userId": "09427577243376366633"
     },
     "user_tz": -330
    },
    "id": "X7DrISc2lcst",
    "outputId": "060cfe97-50f4-4abd-9c5b-8c8924de289f"
   },
   "outputs": [
    {
     "name": "stdout",
     "output_type": "stream",
     "text": [
      "Feel free to ask Questions regarding Life Insurance Policies, Press exit once you are done\n",
      "What is the grace period of policy premium payment?\n"
     ]
    },
    {
     "data": {
      "text/html": [
       "<p style=\"font-size:20px\">The grace period for policy premium payment is 31 days.\n",
       " Check further at Principal-Sample-Life-Insurance-Policy.pdf page nos 20,23</p>"
      ],
      "text/plain": [
       "<IPython.core.display.HTML object>"
      ]
     },
     "metadata": {},
     "output_type": "display_data"
    },
    {
     "name": "stdout",
     "output_type": "stream",
     "text": [
      "What are the benefits received in case of paralysis?\n"
     ]
    },
    {
     "data": {
      "text/html": [
       "<p style=\"font-size:20px\">The benefits received in case of paralysis are as follows:\n",
       "- Quadriplegia: 100% of Scheduled Benefit\n",
       "- Paraplegia: 50% of Scheduled Benefit\n",
       "- Hemiplegia: 50% of Scheduled Benefit\n",
       "- Both Hands or Both Feet: 50% of Scheduled Benefit\n",
       "- One Hand and One Foot: 50% of Scheduled Benefit\n",
       "- One Arm or One Leg: 25% of Scheduled Benefit\n",
       "- One Hand or One Foot: 25% of Scheduled Benefit\n",
       " Check further at Principal-Sample-Life-Insurance-Policy.pdf page nos 56,55</p>"
      ],
      "text/plain": [
       "<IPython.core.display.HTML object>"
      ]
     },
     "metadata": {},
     "output_type": "display_data"
    },
    {
     "name": "stdout",
     "output_type": "stream",
     "text": [
      "Does the insurance cover cancer patients?\n"
     ]
    },
    {
     "data": {
      "text/html": [
       "<p style=\"font-size:20px\">The insurance policy does not specifically mention coverage for cancer patients.\n",
       " Check further at Principal-Sample-Life-Insurance-Policy.pdf page nos 38,55</p>"
      ],
      "text/plain": [
       "<IPython.core.display.HTML object>"
      ]
     },
     "metadata": {},
     "output_type": "display_data"
    },
    {
     "name": "stdout",
     "output_type": "stream",
     "text": [
      "What are the death benefits received in caseof Memeber Life Insurance/\n"
     ]
    },
    {
     "data": {
      "text/html": [
       "<p style=\"font-size:20px\">The death benefits received in case of Member Life Insurance include the payment of the individual policy amount to the beneficiary if the insured member dies within the 31-day individual purchase period. However, no payment will be made until the Principal receives written proof of the member's death. Additionally, if a beneficiary is found guilty of the member's death, they may be disqualified from receiving any benefit due, and the payment may be made to a contingent beneficiary or the executor or administrator of the member's estate.\n",
       " Check further at Principal-Sample-Life-Insurance-Policy.pdf page nos 47,54</p>"
      ],
      "text/plain": [
       "<IPython.core.display.HTML object>"
      ]
     },
     "metadata": {},
     "output_type": "display_data"
    },
    {
     "name": "stdout",
     "output_type": "stream",
     "text": [
      "exit\n",
      "Exiting the program... bye\n"
     ]
    }
   ],
   "source": [
    "initialize_conv()"
   ]
  },
  {
   "cell_type": "code",
   "execution_count": 27,
   "metadata": {
    "executionInfo": {
     "elapsed": 465,
     "status": "ok",
     "timestamp": 1707931137385,
     "user": {
      "displayName": "Vishal Tank",
      "userId": "09427577243376366633"
     },
     "user_tz": -330
    },
    "id": "yLNfo8Nrlhsv"
   },
   "outputs": [],
   "source": [
    "#building a test Pipeline\n",
    "questions = ['What is the benefit for physically handicapped children in member life insurance?', \"Does the insurance cover diabetic patients?\",\n",
    "             'What are the benefits received in case of paralysis?']"
   ]
  },
  {
   "cell_type": "code",
   "execution_count": 28,
   "metadata": {
    "executionInfo": {
     "elapsed": 10,
     "status": "ok",
     "timestamp": 1707931141154,
     "user": {
      "displayName": "Vishal Tank",
      "userId": "09427577243376366633"
     },
     "user_tz": -330
    },
    "id": "X_5e2w5JnFkR"
   },
   "outputs": [],
   "source": [
    "def testing_pipeline(questions):\n",
    "  test_feedback  = []\n",
    "  for i in questions:\n",
    "    print(i)\n",
    "    print(query_response(i))\n",
    "    print('\\n Please provide your feedback on the response provided by the bot')\n",
    "    user_input = input()\n",
    "    page = query_response(i).split()[-1]\n",
    "    test_feedback.append((i,query_response(i),page,user_input))\n",
    "\n",
    "  feedback_df = pd.DataFrame(test_feedback, columns =['Question', 'Response', 'Page','Good or Bad'])\n",
    "  return feedback_df"
   ]
  },
  {
   "cell_type": "code",
   "execution_count": 29,
   "metadata": {
    "executionInfo": {
     "elapsed": 780,
     "status": "ok",
     "timestamp": 1707931150050,
     "user": {
      "displayName": "Vishal Tank",
      "userId": "09427577243376366633"
     },
     "user_tz": -330
    },
    "id": "yo9nfEsRoPhB"
   },
   "outputs": [],
   "source": [
    "import pandas as pd"
   ]
  },
  {
   "cell_type": "code",
   "execution_count": 30,
   "metadata": {
    "colab": {
     "base_uri": "https://localhost:8080/"
    },
    "executionInfo": {
     "elapsed": 45889,
     "status": "ok",
     "timestamp": 1707931331524,
     "user": {
      "displayName": "Vishal Tank",
      "userId": "09427577243376366633"
     },
     "user_tz": -330
    },
    "id": "NfX5y06soRzx",
    "outputId": "daf76667-2e56-4502-ff6b-bd8f24823a8b"
   },
   "outputs": [
    {
     "name": "stdout",
     "output_type": "stream",
     "text": [
      "What is the benefit for physically handicapped children in member life insurance?\n",
      "Dependent Life Insurance for a child may be continued after the child reaches the maximum age for Dependent Children as defined in PART I of this Group Policy, provided that the child is developmentally disabled or physically handicapped.\n",
      " Check further at Principal-Sample-Life-Insurance-Policy.pdf page nos 51,49\n",
      "\n",
      " Please provide your feedback on the response provided by the bot\n",
      "Good\n",
      "Does the insurance cover diabetic patients?\n",
      "The insurance policy does not specifically mention coverage for diabetic patients.\n",
      " Check further at Principal-Sample-Life-Insurance-Policy.pdf page nos 49,38\n",
      "\n",
      " Please provide your feedback on the response provided by the bot\n",
      "Good\n",
      "What are the benefits received in case of paralysis?\n",
      "The benefits received in case of paralysis are as follows:\n",
      "- Quadriplegia: 100% of Scheduled Benefit\n",
      "- Paraplegia: 50% of Scheduled Benefit\n",
      "- Hemiplegia: 50% of Scheduled Benefit\n",
      "- Both Hands or Both Feet: 50% of Scheduled Benefit\n",
      "- One Hand and One Foot: 50% of Scheduled Benefit\n",
      "- One Arm or One Leg: 25% of Scheduled Benefit\n",
      "- One Hand or One Foot: 25% of Scheduled Benefit\n",
      " Check further at Principal-Sample-Life-Insurance-Policy.pdf page nos 56,55\n",
      "\n",
      " Please provide your feedback on the response provided by the bot\n",
      "Good\n"
     ]
    },
    {
     "data": {
      "text/html": [
       "<div>\n",
       "<style scoped>\n",
       "    .dataframe tbody tr th:only-of-type {\n",
       "        vertical-align: middle;\n",
       "    }\n",
       "\n",
       "    .dataframe tbody tr th {\n",
       "        vertical-align: top;\n",
       "    }\n",
       "\n",
       "    .dataframe thead th {\n",
       "        text-align: right;\n",
       "    }\n",
       "</style>\n",
       "<table border=\"1\" class=\"dataframe\">\n",
       "  <thead>\n",
       "    <tr style=\"text-align: right;\">\n",
       "      <th></th>\n",
       "      <th>Question</th>\n",
       "      <th>Response</th>\n",
       "      <th>Page</th>\n",
       "      <th>Good or Bad</th>\n",
       "    </tr>\n",
       "  </thead>\n",
       "  <tbody>\n",
       "    <tr>\n",
       "      <th>0</th>\n",
       "      <td>What is the benefit for physically handicapped...</td>\n",
       "      <td>Dependent Life Insurance for a child may be co...</td>\n",
       "      <td>51,49</td>\n",
       "      <td>Good</td>\n",
       "    </tr>\n",
       "    <tr>\n",
       "      <th>1</th>\n",
       "      <td>Does the insurance cover diabetic patients?</td>\n",
       "      <td>The insurance policy does not specifically men...</td>\n",
       "      <td>49,38</td>\n",
       "      <td>Good</td>\n",
       "    </tr>\n",
       "    <tr>\n",
       "      <th>2</th>\n",
       "      <td>What are the benefits received in case of para...</td>\n",
       "      <td>The benefits received in case of paralysis are...</td>\n",
       "      <td>56,55</td>\n",
       "      <td>Good</td>\n",
       "    </tr>\n",
       "  </tbody>\n",
       "</table>\n",
       "</div>"
      ],
      "text/plain": [
       "                                            Question  \\\n",
       "0  What is the benefit for physically handicapped...   \n",
       "1        Does the insurance cover diabetic patients?   \n",
       "2  What are the benefits received in case of para...   \n",
       "\n",
       "                                            Response   Page Good or Bad  \n",
       "0  Dependent Life Insurance for a child may be co...  51,49        Good  \n",
       "1  The insurance policy does not specifically men...  49,38        Good  \n",
       "2  The benefits received in case of paralysis are...  56,55        Good  "
      ]
     },
     "execution_count": 30,
     "metadata": {},
     "output_type": "execute_result"
    }
   ],
   "source": [
    "testing_pipeline(questions)"
   ]
  },
  {
   "cell_type": "code",
   "execution_count": null,
   "metadata": {
    "id": "DAcZcFKMoUhz"
   },
   "outputs": [],
   "source": []
  }
 ],
 "metadata": {
  "colab": {
   "authorship_tag": "ABX9TyNYir11J09d6vnusHnHDg1Q",
   "mount_file_id": "1vI6rVfdSwu2y4sMGktpCfC_xyIuqrH0-",
   "provenance": []
  },
  "kernelspec": {
   "display_name": "Python 3 (ipykernel)",
   "language": "python",
   "name": "python3"
  },
  "language_info": {
   "codemirror_mode": {
    "name": "ipython",
    "version": 3
   },
   "file_extension": ".py",
   "mimetype": "text/x-python",
   "name": "python",
   "nbconvert_exporter": "python",
   "pygments_lexer": "ipython3",
   "version": "3.9.12"
  }
 },
 "nbformat": 4,
 "nbformat_minor": 1
}
